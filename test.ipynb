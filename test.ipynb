{
 "cells": [
  {
   "cell_type": "markdown",
   "metadata": {},
   "source": [
    "## SVM + Word2Vec fake news detection"
   ]
  },
  {
   "cell_type": "code",
   "execution_count": 1,
   "metadata": {},
   "outputs": [],
   "source": [
    "import pandas as pd\n",
    "import nltk\n",
    "from nltk.corpus import stopwords\n",
    "from sklearn.model_selection import train_test_split\n",
    "from sklearn.ensemble import RandomForestClassifier\n",
    "from sklearn.metrics import accuracy_score, precision_score, recall_score, f1_score, confusion_matrix\n",
    "import matplotlib.pyplot as plt\n",
    "import seaborn as sns\n",
    "from gensim.models import Word2Vec\n",
    "import numpy as np\n",
    "import graphviz\n",
    "from sklearn.tree import export_graphviz\n",
    "\n"
   ]
  },
  {
   "cell_type": "code",
   "execution_count": 6,
   "metadata": {},
   "outputs": [
    {
     "name": "stderr",
     "output_type": "stream",
     "text": [
      "[nltk_data] Downloading package stopwords to\n",
      "[nltk_data]     /Users/fzhu77/nltk_data...\n",
      "[nltk_data]   Package stopwords is already up-to-date!\n"
     ]
    }
   ],
   "source": [
    "# Download NLTK stopwords\n",
    "nltk.download('stopwords')\n",
    "stop_words = set(stopwords.words('english'))\n",
    "\n",
    "# Load data and drop rows with NaN values\n",
    "# data = pd.read_csv('/content/fake_news.csv', sep=',', on_bad_lines='skip', quoting=3, low_memory=False)\n",
    "data = pd.read_csv('WELFake_Dataset.csv')"
   ]
  },
  {
   "cell_type": "code",
   "execution_count": 7,
   "metadata": {},
   "outputs": [
    {
     "data": {
      "text/html": [
       "<div>\n",
       "<style scoped>\n",
       "    .dataframe tbody tr th:only-of-type {\n",
       "        vertical-align: middle;\n",
       "    }\n",
       "\n",
       "    .dataframe tbody tr th {\n",
       "        vertical-align: top;\n",
       "    }\n",
       "\n",
       "    .dataframe thead th {\n",
       "        text-align: right;\n",
       "    }\n",
       "</style>\n",
       "<table border=\"1\" class=\"dataframe\">\n",
       "  <thead>\n",
       "    <tr style=\"text-align: right;\">\n",
       "      <th></th>\n",
       "      <th>Unnamed: 0</th>\n",
       "      <th>title</th>\n",
       "      <th>text</th>\n",
       "      <th>label</th>\n",
       "    </tr>\n",
       "  </thead>\n",
       "  <tbody>\n",
       "    <tr>\n",
       "      <th>0</th>\n",
       "      <td>0</td>\n",
       "      <td>LAW ENFORCEMENT ON HIGH ALERT Following Threat...</td>\n",
       "      <td>No comment is expected from Barack Obama Membe...</td>\n",
       "      <td>1</td>\n",
       "    </tr>\n",
       "    <tr>\n",
       "      <th>1</th>\n",
       "      <td>1</td>\n",
       "      <td>NaN</td>\n",
       "      <td>Did they post their votes for Hillary already?</td>\n",
       "      <td>1</td>\n",
       "    </tr>\n",
       "    <tr>\n",
       "      <th>2</th>\n",
       "      <td>2</td>\n",
       "      <td>UNBELIEVABLE! OBAMA’S ATTORNEY GENERAL SAYS MO...</td>\n",
       "      <td>Now, most of the demonstrators gathered last ...</td>\n",
       "      <td>1</td>\n",
       "    </tr>\n",
       "    <tr>\n",
       "      <th>3</th>\n",
       "      <td>3</td>\n",
       "      <td>Bobby Jindal, raised Hindu, uses story of Chri...</td>\n",
       "      <td>A dozen politically active pastors came here f...</td>\n",
       "      <td>0</td>\n",
       "    </tr>\n",
       "    <tr>\n",
       "      <th>4</th>\n",
       "      <td>4</td>\n",
       "      <td>SATAN 2: Russia unvelis an image of its terrif...</td>\n",
       "      <td>The RS-28 Sarmat missile, dubbed Satan 2, will...</td>\n",
       "      <td>1</td>\n",
       "    </tr>\n",
       "    <tr>\n",
       "      <th>...</th>\n",
       "      <td>...</td>\n",
       "      <td>...</td>\n",
       "      <td>...</td>\n",
       "      <td>...</td>\n",
       "    </tr>\n",
       "    <tr>\n",
       "      <th>72129</th>\n",
       "      <td>72129</td>\n",
       "      <td>Russians steal research on Trump in hack of U....</td>\n",
       "      <td>WASHINGTON (Reuters) - Hackers believed to be ...</td>\n",
       "      <td>0</td>\n",
       "    </tr>\n",
       "    <tr>\n",
       "      <th>72130</th>\n",
       "      <td>72130</td>\n",
       "      <td>WATCH: Giuliani Demands That Democrats Apolog...</td>\n",
       "      <td>You know, because in fantasyland Republicans n...</td>\n",
       "      <td>1</td>\n",
       "    </tr>\n",
       "    <tr>\n",
       "      <th>72131</th>\n",
       "      <td>72131</td>\n",
       "      <td>Migrants Refuse To Leave Train At Refugee Camp...</td>\n",
       "      <td>Migrants Refuse To Leave Train At Refugee Camp...</td>\n",
       "      <td>0</td>\n",
       "    </tr>\n",
       "    <tr>\n",
       "      <th>72132</th>\n",
       "      <td>72132</td>\n",
       "      <td>Trump tussle gives unpopular Mexican leader mu...</td>\n",
       "      <td>MEXICO CITY (Reuters) - Donald Trump’s combati...</td>\n",
       "      <td>0</td>\n",
       "    </tr>\n",
       "    <tr>\n",
       "      <th>72133</th>\n",
       "      <td>72133</td>\n",
       "      <td>Goldman Sachs Endorses Hillary Clinton For Pre...</td>\n",
       "      <td>Goldman Sachs Endorses Hillary Clinton For Pre...</td>\n",
       "      <td>1</td>\n",
       "    </tr>\n",
       "  </tbody>\n",
       "</table>\n",
       "<p>72134 rows × 4 columns</p>\n",
       "</div>"
      ],
      "text/plain": [
       "       Unnamed: 0                                              title  \\\n",
       "0               0  LAW ENFORCEMENT ON HIGH ALERT Following Threat...   \n",
       "1               1                                                NaN   \n",
       "2               2  UNBELIEVABLE! OBAMA’S ATTORNEY GENERAL SAYS MO...   \n",
       "3               3  Bobby Jindal, raised Hindu, uses story of Chri...   \n",
       "4               4  SATAN 2: Russia unvelis an image of its terrif...   \n",
       "...           ...                                                ...   \n",
       "72129       72129  Russians steal research on Trump in hack of U....   \n",
       "72130       72130   WATCH: Giuliani Demands That Democrats Apolog...   \n",
       "72131       72131  Migrants Refuse To Leave Train At Refugee Camp...   \n",
       "72132       72132  Trump tussle gives unpopular Mexican leader mu...   \n",
       "72133       72133  Goldman Sachs Endorses Hillary Clinton For Pre...   \n",
       "\n",
       "                                                    text  label  \n",
       "0      No comment is expected from Barack Obama Membe...      1  \n",
       "1         Did they post their votes for Hillary already?      1  \n",
       "2       Now, most of the demonstrators gathered last ...      1  \n",
       "3      A dozen politically active pastors came here f...      0  \n",
       "4      The RS-28 Sarmat missile, dubbed Satan 2, will...      1  \n",
       "...                                                  ...    ...  \n",
       "72129  WASHINGTON (Reuters) - Hackers believed to be ...      0  \n",
       "72130  You know, because in fantasyland Republicans n...      1  \n",
       "72131  Migrants Refuse To Leave Train At Refugee Camp...      0  \n",
       "72132  MEXICO CITY (Reuters) - Donald Trump’s combati...      0  \n",
       "72133  Goldman Sachs Endorses Hillary Clinton For Pre...      1  \n",
       "\n",
       "[72134 rows x 4 columns]"
      ]
     },
     "execution_count": 7,
     "metadata": {},
     "output_type": "execute_result"
    }
   ],
   "source": [
    "data"
   ]
  },
  {
   "cell_type": "code",
   "execution_count": 10,
   "metadata": {},
   "outputs": [
    {
     "data": {
      "text/plain": [
       "Unnamed: 0      0\n",
       "title         558\n",
       "text            0\n",
       "label           0\n",
       "dtype: int64"
      ]
     },
     "execution_count": 10,
     "metadata": {},
     "output_type": "execute_result"
    }
   ],
   "source": [
    "data.dropna(subset=['text', 'label'], inplace=True)\n",
    "data.isnull().sum()"
   ]
  },
  {
   "cell_type": "code",
   "execution_count": 11,
   "metadata": {},
   "outputs": [
    {
     "name": "stdout",
     "output_type": "stream",
     "text": [
      "Data loaded and cleaned. Remaining NaN values:\n",
      "Unnamed: 0      0\n",
      "title         558\n",
      "text            0\n",
      "label           0\n",
      "dtype: int64\n",
      "Starting data preprocessing...\n",
      "Data preprocessing completed.\n"
     ]
    }
   ],
   "source": [
    "data = pd.read_csv('WELFake_Dataset.csv')\n",
    "data.dropna(subset=['text', 'label'], inplace=True)\n",
    "print(\"Data loaded and cleaned. Remaining NaN values:\")\n",
    "print(data.isnull().sum())\n",
    "\n",
    "# Text preprocessing function\n",
    "def preprocess_text(text):\n",
    "    if isinstance(text, str):\n",
    "        text = text.lower()\n",
    "        words = [word for word in text.split() if word not in stop_words]\n",
    "        return words\n",
    "    else:\n",
    "        return []\n",
    "\n",
    "# Preprocess the data\n",
    "print(\"Starting data preprocessing...\")\n",
    "data['cleaned_text'] = data['text'].apply(preprocess_text)\n",
    "print(\"Data preprocessing completed.\")\n",
    "\n",
    "# Split dataset into training and testing sets\n",
    "X_train, X_test, y_train, y_test = train_test_split(\n",
    "    data['cleaned_text'], data['label'], test_size=0.2, random_state=42\n",
    ")"
   ]
  },
  {
   "cell_type": "code",
   "execution_count": 12,
   "metadata": {},
   "outputs": [
    {
     "data": {
      "text/plain": [
       "896      [(reuters), -, u.s., president, donald, trump,...\n",
       "51270    [beirut, (reuters), -, lebanon, saad, al-harir...\n",
       "8421     [washington, (reuters), -, year, donald, trump...\n",
       "46401    [berlin, (reuters), -, french, president, emma...\n",
       "16394    [gary, kamiya, sf, chronicleon, elegant, dead-...\n",
       "                               ...                        \n",
       "37211    [chris, farrell, judicial, watch, director, in...\n",
       "6269     [thursday, fox, news, channel’s, “the, o’reill...\n",
       "54917    [joy, reid, known, racist, slant, news., one, ...\n",
       "860      [school, district, kentucky, canceled, school’...\n",
       "15803    [(reuters), -, united, states, china, targetin...\n",
       "Name: cleaned_text, Length: 57676, dtype: object"
      ]
     },
     "execution_count": 12,
     "metadata": {},
     "output_type": "execute_result"
    }
   ],
   "source": [
    "X_train"
   ]
  },
  {
   "cell_type": "code",
   "execution_count": 13,
   "metadata": {},
   "outputs": [
    {
     "name": "stdout",
     "output_type": "stream",
     "text": [
      "Training Word2Vec model...\n",
      "Word2Vec model training completed.\n",
      "Training the Random Forest model with Word2Vec features...\n",
      "Model training completed.\n",
      "Evaluating model performance...\n"
     ]
    }
   ],
   "source": [
    "# Train the Word2Vec model\n",
    "print(\"Training Word2Vec model...\")\n",
    "w2v_model = Word2Vec(sentences=X_train, vector_size=100, window=5, min_count=1, workers=4)\n",
    "print(\"Word2Vec model training completed.\")\n",
    "\n",
    "# Convert text to the average Word2Vec vector\n",
    "def text_to_vector(text):\n",
    "    vectors = [w2v_model.wv[word] for word in text if word in w2v_model.wv]\n",
    "    if len(vectors) > 0:\n",
    "        return np.mean(vectors, axis=0)\n",
    "    else:\n",
    "        return np.zeros(w2v_model.vector_size)\n",
    "\n",
    "X_train_vect = np.array([text_to_vector(text) for text in X_train])\n",
    "X_test_vect = np.array([text_to_vector(text) for text in X_test])\n",
    "\n",
    "# Train the Random Forest model\n",
    "print(\"Training the Random Forest model with Word2Vec features...\")\n",
    "rf_model = RandomForestClassifier(n_estimators=100, random_state=42)\n",
    "rf_model.fit(X_train_vect, y_train)\n",
    "print(\"Model training completed.\")\n",
    "\n",
    "# Predict and calculate performance metrics\n",
    "print(\"Evaluating model performance...\")\n",
    "y_pred = rf_model.predict(X_test_vect)"
   ]
  },
  {
   "cell_type": "code",
   "execution_count": null,
   "metadata": {},
   "outputs": [
    {
     "data": {
      "text/plain": [
       "array([1, 0, 1, ..., 1, 0, 1])"
      ]
     },
     "execution_count": 14,
     "metadata": {},
     "output_type": "execute_result"
    }
   ],
   "source": [
    "y_pred"
   ]
  },
  {
   "cell_type": "code",
   "execution_count": 15,
   "metadata": {},
   "outputs": [
    {
     "name": "stdout",
     "output_type": "stream",
     "text": [
      "Model performance:\n",
      "Accuracy: 0.9388307094805465\n",
      "Precision: 0.9333421856327181\n",
      "Recall: 0.9487110271291672\n",
      "F1 Score: 0.9409638554216867\n",
      "Generating confusion matrix...\n"
     ]
    }
   ],
   "source": [
    "# Assuming 1 represents \"fake\" and 0 represents \"real\"\n",
    "accuracy = accuracy_score(y_test, y_pred)\n",
    "precision = precision_score(y_test, y_pred, pos_label=1, average='binary')\n",
    "recall = recall_score(y_test, y_pred, pos_label=1, average='binary')\n",
    "f1 = f1_score(y_test, y_pred, pos_label=1.0, average='binary')\n",
    "\n",
    "print(\"Model performance:\")\n",
    "print(\"Accuracy:\", accuracy)\n",
    "print(\"Precision:\", precision)\n",
    "print(\"Recall:\", recall)\n",
    "print(\"F1 Score:\", f1)\n",
    "\n",
    "# Visualization 1: Confusion Matrix\n",
    "print(\"Generating confusion matrix...\")\n",
    "conf_matrix = confusion_matrix(y_test, y_pred)"
   ]
  },
  {
   "cell_type": "code",
   "execution_count": 25,
   "metadata": {},
   "outputs": [
    {
     "data": {
      "text/plain": [
       "array([[7029,  380],\n",
       "       [ 502, 6508]])"
      ]
     },
     "execution_count": 25,
     "metadata": {},
     "output_type": "execute_result"
    }
   ],
   "source": [
    "conf_matrix = confusion_matrix(y_test, y_pred, labels=[1, 0])\n",
    "conf_matrix"
   ]
  },
  {
   "cell_type": "markdown",
   "metadata": {},
   "source": [
    "## K-means + Word2Vec fake news detection"
   ]
  },
  {
   "cell_type": "code",
   "execution_count": 27,
   "metadata": {},
   "outputs": [
    {
     "name": "stderr",
     "output_type": "stream",
     "text": [
      "[nltk_data] Downloading package stopwords to\n",
      "[nltk_data]     /Users/fzhu77/nltk_data...\n",
      "[nltk_data]   Package stopwords is already up-to-date!\n"
     ]
    },
    {
     "name": "stdout",
     "output_type": "stream",
     "text": [
      "Data loaded and cleaned. Remaining NaN values:\n",
      "Unnamed: 0      0\n",
      "title         558\n",
      "text            0\n",
      "label           0\n",
      "dtype: int64\n",
      "Starting data preprocessing...\n",
      "Data preprocessing completed.\n",
      "Training Word2Vec model...\n",
      "Word2Vec model training completed.\n",
      "Training KMeans clustering model...\n",
      "Model training completed.\n"
     ]
    }
   ],
   "source": [
    "# Import necessary libraries\n",
    "import pandas as pd\n",
    "import nltk\n",
    "from nltk.corpus import stopwords\n",
    "from sklearn.model_selection import train_test_split\n",
    "from sklearn.metrics import accuracy_score, precision_score, recall_score, f1_score, confusion_matrix\n",
    "import matplotlib.pyplot as plt\n",
    "import seaborn as sns\n",
    "from gensim.models import Word2Vec\n",
    "import numpy as np\n",
    "import graphviz\n",
    "from sklearn.cluster import KMeans\n",
    "\n",
    "# Download NLTK stopwords\n",
    "nltk.download('stopwords')\n",
    "stop_words = set(stopwords.words('english'))\n",
    "\n",
    "# Load data and drop rows with NaN values\n",
    "data = pd.read_csv('WELFake_Dataset.csv')\n",
    "data.dropna(subset=['text', 'label'], inplace=True)\n",
    "print(\"Data loaded and cleaned. Remaining NaN values:\")\n",
    "print(data.isnull().sum())\n",
    "\n",
    "# Text preprocessing function\n",
    "def preprocess_text(text):\n",
    "    if isinstance(text, str):\n",
    "        text = text.lower()\n",
    "        words = [word for word in text.split() if word not in stop_words]\n",
    "        return words\n",
    "    else:\n",
    "        return []\n",
    "\n",
    "# Preprocess the data\n",
    "print(\"Starting data preprocessing...\")\n",
    "data['cleaned_text'] = data['text'].apply(preprocess_text)\n",
    "print(\"Data preprocessing completed.\")\n",
    "\n",
    "# Split dataset into training and testing sets\n",
    "X_train, X_test, y_train, y_test = train_test_split(\n",
    "    data['cleaned_text'], data['label'], test_size=0.2, random_state=42\n",
    ")\n",
    "\n",
    "# Train the Word2Vec model\n",
    "print(\"Training Word2Vec model...\")\n",
    "w2v_model = Word2Vec(sentences=X_train, vector_size=100, window=5, min_count=1, workers=4)\n",
    "print(\"Word2Vec model training completed.\")\n",
    "\n",
    "# Convert text to the average Word2Vec vector\n",
    "def text_to_vector(text):\n",
    "    vectors = [w2v_model.wv[word] for word in text if word in w2v_model.wv]\n",
    "    if len(vectors) > 0:\n",
    "        return np.mean(vectors, axis=0)\n",
    "    else:\n",
    "        return np.zeros(w2v_model.vector_size)\n",
    "\n",
    "X_train_vect = np.array([text_to_vector(text) for text in X_train])\n",
    "X_test_vect = np.array([text_to_vector(text) for text in X_test])\n",
    "\n",
    "# Train the KMeans clustering model\n",
    "print(\"Training KMeans clustering model...\")\n",
    "kmeans = KMeans(n_clusters=2, random_state=42)\n",
    "kmeans.fit(X_train_vect)\n",
    "print(\"Model training completed.\")\n",
    "\n",
    "# Predict cluster labels on the test set\n",
    "y_pred_clusters = kmeans.predict(X_test_vect)\n"
   ]
  },
  {
   "cell_type": "code",
   "execution_count": 28,
   "metadata": {},
   "outputs": [
    {
     "data": {
      "text/plain": [
       "array([1, 1, 1, ..., 1, 0, 1], dtype=int32)"
      ]
     },
     "execution_count": 28,
     "metadata": {},
     "output_type": "execute_result"
    }
   ],
   "source": [
    "y_pred_clusters"
   ]
  },
  {
   "cell_type": "code",
   "execution_count": 30,
   "metadata": {},
   "outputs": [
    {
     "name": "stdout",
     "output_type": "stream",
     "text": [
      "Cluster to label mapping: {0: 0, 1: 1}\n",
      "Model performance:\n",
      "Accuracy: 0.7702337193980165\n",
      "Precision: 0.7378077101718532\n",
      "Recall: 0.8576056147928195\n",
      "F1 Score: 0.7932089133012921\n",
      "Generating confusion matrix...\n"
     ]
    },
    {
     "data": {
      "image/png": "[encoded data removed]",
      "text/plain": [
       "<Figure size 600x400 with 2 Axes>"
      ]
     },
     "metadata": {},
     "output_type": "display_data"
    }
   ],
   "source": [
    "from collections import Counter\n",
    "\n",
    "# Map cluster labels to true labels\n",
    "def map_clusters_to_labels(y_true, y_clusters):\n",
    "    labels = np.unique(y_clusters)\n",
    "    label_mapping = {}\n",
    "    for label in labels:\n",
    "        indices = np.where(y_clusters == label)\n",
    "        true_labels_in_cluster = y_true[indices]\n",
    "        if len(true_labels_in_cluster) == 0:\n",
    "            label_mapping[label] = 0  # Default label if cluster is empty\n",
    "        else:\n",
    "            most_common_label = Counter(true_labels_in_cluster).most_common(1)[0][0]\n",
    "            label_mapping[label] = most_common_label\n",
    "    return label_mapping\n",
    "\n",
    "# Map cluster labels to true labels\n",
    "label_mapping = map_clusters_to_labels(y_test.values, y_pred_clusters)\n",
    "print(f\"Cluster to label mapping: {label_mapping}\")\n",
    "\n",
    "# Apply the mapping to the predicted clusters\n",
    "y_pred = np.array([label_mapping[label] for label in y_pred_clusters])\n",
    "\n",
    "# Evaluate performance\n",
    "accuracy = accuracy_score(y_test, y_pred)\n",
    "precision = precision_score(y_test, y_pred, pos_label=1, average='binary')\n",
    "recall = recall_score(y_test, y_pred, pos_label=1, average='binary')\n",
    "f1 = f1_score(y_test, y_pred, pos_label=1.0, average='binary')\n",
    "\n",
    "print(\"Model performance:\")\n",
    "print(\"Accuracy:\", accuracy)\n",
    "print(\"Precision:\", precision)\n",
    "print(\"Recall:\", recall)\n",
    "print(\"F1 Score:\", f1)\n",
    "\n",
    "# Visualization: Confusion Matrix\n",
    "print(\"Generating confusion matrix...\")\n",
    "conf_matrix = confusion_matrix(y_test, y_pred, labels=[1, 0])\n",
    "plt.figure(figsize=(6, 4))\n",
    "sns.heatmap(conf_matrix, annot=True, fmt=\"d\", cmap=\"Blues\",\n",
    "            xticklabels=['Fake', 'Real'], yticklabels=['Fake', 'Real'])\n",
    "plt.xlabel(\"Predicted Labels\")\n",
    "plt.ylabel(\"True Labels\")\n",
    "plt.title(\"Confusion Matrix\")\n",
    "plt.show()\n"
   ]
  },
  {
   "cell_type": "code",
   "execution_count": 31,
   "metadata": {},
   "outputs": [
    {
     "data": {
      "text/plain": [
       "44395    1\n",
       "53213    0\n",
       "10100    1\n",
       "48043    0\n",
       "25213    0\n",
       "        ..\n",
       "54262    1\n",
       "64845    0\n",
       "39006    1\n",
       "59591    0\n",
       "29967    1\n",
       "Name: label, Length: 14419, dtype: int64"
      ]
     },
     "execution_count": 31,
     "metadata": {},
     "output_type": "execute_result"
    }
   ],
   "source": [
    "y_test"
   ]
  },
  {
   "cell_type": "code",
   "execution_count": 32,
   "metadata": {},
   "outputs": [
    {
     "data": {
      "text/plain": [
       "array([1, 1, 1, ..., 1, 0, 1])"
      ]
     },
     "execution_count": 32,
     "metadata": {},
     "output_type": "execute_result"
    }
   ],
   "source": [
    "y_pred"
   ]
  },
  {
   "cell_type": "markdown",
   "metadata": {},
   "source": [
    "## SVM + Word2Vec fake news detection"
   ]
  },
  {
   "cell_type": "code",
   "execution_count": 1,
   "metadata": {},
   "outputs": [
    {
     "name": "stderr",
     "output_type": "stream",
     "text": [
      "[nltk_data] Downloading package stopwords to\n",
      "[nltk_data]     /Users/fzhu77/nltk_data...\n",
      "[nltk_data]   Package stopwords is already up-to-date!\n"
     ]
    },
    {
     "name": "stdout",
     "output_type": "stream",
     "text": [
      "Data loaded and cleaned. Remaining NaN values:\n",
      "Unnamed: 0      0\n",
      "title         558\n",
      "text            0\n",
      "label           0\n",
      "dtype: int64\n",
      "Starting data preprocessing...\n",
      "Data preprocessing completed.\n",
      "Training Word2Vec model...\n",
      "Word2Vec model training completed.\n"
     ]
    }
   ],
   "source": [
    "# Install necessary libraries\n",
    "# !pip install pandas nltk scikit-learn matplotlib seaborn gensim graphviz\n",
    "\n",
    "import pandas as pd\n",
    "import nltk\n",
    "from nltk.corpus import stopwords\n",
    "from sklearn.model_selection import train_test_split\n",
    "from sklearn.ensemble import RandomForestClassifier\n",
    "from sklearn.metrics import accuracy_score, precision_score, recall_score, f1_score, confusion_matrix\n",
    "import matplotlib.pyplot as plt\n",
    "import seaborn as sns\n",
    "from gensim.models import Word2Vec\n",
    "import numpy as np\n",
    "import graphviz\n",
    "from sklearn.tree import export_graphviz\n",
    "\n",
    "# Download NLTK stopwords\n",
    "nltk.download('stopwords')\n",
    "stop_words = set(stopwords.words('english'))\n",
    "\n",
    "# Load data and drop rows with NaN values\n",
    "# data = pd.read_csv('/content/fake_news.csv', sep=',', on_bad_lines='skip', quoting=3, low_memory=False)\n",
    "data = pd.read_csv('WELFake_Dataset.csv')\n",
    "data.dropna(subset=['text', 'label'], inplace=True)\n",
    "print(\"Data loaded and cleaned. Remaining NaN values:\")\n",
    "print(data.isnull().sum())\n",
    "\n",
    "# Text preprocessing function\n",
    "def preprocess_text(text):\n",
    "    if isinstance(text, str):\n",
    "        text = text.lower()\n",
    "        words = [word for word in text.split() if word not in stop_words]\n",
    "        return words\n",
    "    else:\n",
    "        return []\n",
    "\n",
    "# Preprocess the data\n",
    "print(\"Starting data preprocessing...\")\n",
    "data['cleaned_text'] = data['text'].apply(preprocess_text)\n",
    "print(\"Data preprocessing completed.\")\n",
    "\n",
    "# Split dataset into training and testing sets\n",
    "X_train, X_test, y_train, y_test = train_test_split(\n",
    "    data['cleaned_text'], data['label'], test_size=0.2, random_state=42\n",
    ")\n",
    "\n",
    "# Train the Word2Vec model\n",
    "print(\"Training Word2Vec model...\")\n",
    "w2v_model = Word2Vec(sentences=X_train, vector_size=100, window=5, min_count=1, workers=4)\n",
    "print(\"Word2Vec model training completed.\")\n",
    "\n",
    "# Convert text to the average Word2Vec vector\n",
    "def text_to_vector(text):\n",
    "    vectors = [w2v_model.wv[word] for word in text if word in w2v_model.wv]\n",
    "    if len(vectors) > 0:\n",
    "        return np.mean(vectors, axis=0)\n",
    "    else:\n",
    "        return np.zeros(w2v_model.vector_size)\n",
    "\n",
    "X_train_vect = np.array([text_to_vector(text) for text in X_train])\n",
    "X_test_vect = np.array([text_to_vector(text) for text in X_test])"
   ]
  },
  {
   "cell_type": "code",
   "execution_count": 2,
   "metadata": {},
   "outputs": [
    {
     "name": "stdout",
     "output_type": "stream",
     "text": [
      "Training the SVM model with Word2Vec features...\n",
      "Model training completed.\n",
      "Evaluating model performance with SVM...\n",
      "SVM Model performance:\n",
      "Accuracy: 0.9318954157708579\n",
      "Precision: 0.9365575329438935\n",
      "Recall: 0.9304899446618977\n",
      "F1 Score: 0.9335138794854435\n",
      "Generating confusion matrix for SVM...\n"
     ]
    },
    {
     "data": {
      "image/png": "[encoded data removed]",
      "text/plain": [
       "<Figure size 600x400 with 2 Axes>"
      ]
     },
     "metadata": {},
     "output_type": "display_data"
    }
   ],
   "source": [
    "from sklearn.svm import SVC\n",
    "\n",
    "# Train the SVM model\n",
    "print(\"Training the SVM model with Word2Vec features...\")\n",
    "svm_model = SVC(kernel='linear', random_state=42)\n",
    "svm_model.fit(X_train_vect, y_train)\n",
    "print(\"Model training completed.\")\n",
    "\n",
    "# Predict and calculate performance metrics\n",
    "print(\"Evaluating model performance with SVM...\")\n",
    "y_pred = svm_model.predict(X_test_vect)\n",
    "\n",
    "# Assuming 1 represents \"fake\" and 0 represents \"real\"\n",
    "accuracy = accuracy_score(y_test, y_pred)\n",
    "precision = precision_score(y_test, y_pred, pos_label=1, average='binary')\n",
    "recall = recall_score(y_test, y_pred, pos_label=1, average='binary')\n",
    "f1 = f1_score(y_test, y_pred, pos_label=1.0, average='binary')\n",
    "\n",
    "print(\"SVM Model performance:\")\n",
    "print(\"Accuracy:\", accuracy)\n",
    "print(\"Precision:\", precision)\n",
    "print(\"Recall:\", recall)\n",
    "print(\"F1 Score:\", f1)\n",
    "\n",
    "# Visualization: Confusion Matrix\n",
    "print(\"Generating confusion matrix for SVM...\")\n",
    "conf_matrix = confusion_matrix(y_test, y_pred, labels=[1, 0])\n",
    "plt.figure(figsize=(6, 4))\n",
    "sns.heatmap(conf_matrix, annot=True, fmt=\"d\", cmap=\"Blues\", xticklabels=['Fake', 'Real'], yticklabels=['Fake', 'Real'])\n",
    "plt.xlabel(\"Predicted Labels\")\n",
    "plt.ylabel(\"True Labels\")\n",
    "plt.title(\"Confusion Matrix (SVM)\")\n",
    "plt.show()\n"
   ]
  },
  {
   "cell_type": "code",
   "execution_count": 34,
   "metadata": {},
   "outputs": [
    {
     "data": {
      "text/plain": [
       "array([[6896,  513],\n",
       "       [ 449, 6561]])"
      ]
     },
     "execution_count": 34,
     "metadata": {},
     "output_type": "execute_result"
    }
   ],
   "source": [
    "conf_matrix"
   ]
  },
  {
   "cell_type": "code",
   "execution_count": null,
   "metadata": {},
   "outputs": [],
   "source": [
    "conf_matrix"
   ]
  },
  {
   "cell_type": "markdown",
   "metadata": {},
   "source": [
    "## SVM + TF fake news detection"
   ]
  },
  {
   "cell_type": "code",
   "execution_count": 3,
   "metadata": {},
   "outputs": [
    {
     "name": "stderr",
     "output_type": "stream",
     "text": [
      "[nltk_data] Downloading package stopwords to\n",
      "[nltk_data]     /Users/fzhu77/nltk_data...\n",
      "[nltk_data]   Package stopwords is already up-to-date!\n"
     ]
    },
    {
     "name": "stdout",
     "output_type": "stream",
     "text": [
      "Data loaded and cleaned. Remaining NaN values:\n",
      "Unnamed: 0      0\n",
      "title         558\n",
      "text            0\n",
      "label           0\n",
      "dtype: int64\n",
      "Starting data preprocessing...\n",
      "Data preprocessing completed.\n",
      "Transforming text data into TF features with limited vocabulary...\n",
      "Transformation completed.\n",
      "Training the LinearSVC model with TF features...\n",
      "Model training completed.\n",
      "Evaluating model performance...\n",
      "Model performance:\n",
      "Accuracy: 0.7958943061238644\n",
      "Precision: 0.7657068062827225\n",
      "Recall: 0.8685382642731813\n",
      "F1 Score: 0.8138873079112123\n",
      "Generating confusion matrix...\n"
     ]
    },
    {
     "data": {
      "image/png": "[encoded data removed]",
      "text/plain": [
       "<Figure size 600x400 with 2 Axes>"
      ]
     },
     "metadata": {},
     "output_type": "display_data"
    }
   ],
   "source": [
    "# Import necessary libraries\n",
    "import pandas as pd\n",
    "import nltk\n",
    "from nltk.corpus import stopwords\n",
    "from sklearn.model_selection import train_test_split\n",
    "from sklearn.metrics import (accuracy_score, precision_score, recall_score,\n",
    "                             f1_score, confusion_matrix)\n",
    "import matplotlib.pyplot as plt\n",
    "import seaborn as sns\n",
    "from sklearn.feature_extraction.text import CountVectorizer\n",
    "from sklearn.svm import LinearSVC\n",
    "\n",
    "# Download NLTK stopwords\n",
    "nltk.download('stopwords')\n",
    "stop_words = set(stopwords.words('english'))\n",
    "\n",
    "# Load data and drop rows with NaN values\n",
    "data = pd.read_csv('WELFake_Dataset.csv')\n",
    "data.dropna(subset=['text', 'label'], inplace=True)\n",
    "print(\"Data loaded and cleaned. Remaining NaN values:\")\n",
    "print(data.isnull().sum())\n",
    "\n",
    "# Text preprocessing function\n",
    "def preprocess_text(text):\n",
    "    if isinstance(text, str):\n",
    "        text = text.lower()\n",
    "        words = [word for word in text.split() if word not in stop_words]\n",
    "        return ' '.join(words)  # Return a string\n",
    "    else:\n",
    "        return ''\n",
    "\n",
    "# Preprocess the data\n",
    "print(\"Starting data preprocessing...\")\n",
    "data['cleaned_text'] = data['text'].apply(preprocess_text)\n",
    "print(\"Data preprocessing completed.\")\n",
    "\n",
    "# Split dataset into training and testing sets\n",
    "X_train, X_test, y_train, y_test = train_test_split(\n",
    "    data['cleaned_text'], data['label'], test_size=0.2, random_state=42\n",
    ")\n",
    "\n",
    "# Initialize the CountVectorizer with limited vocabulary\n",
    "vectorizer = CountVectorizer(max_features=50)\n",
    "\n",
    "# Fit and transform the training data, transform the test data\n",
    "print(\"Transforming text data into TF features with limited vocabulary...\")\n",
    "X_train_vect = vectorizer.fit_transform(X_train)\n",
    "X_test_vect = vectorizer.transform(X_test)\n",
    "print(\"Transformation completed.\")\n",
    "\n",
    "# Train the LinearSVC model\n",
    "print(\"Training the LinearSVC model with TF features...\")\n",
    "linear_svc_model = LinearSVC(random_state=42, max_iter=10000)\n",
    "linear_svc_model.fit(X_train_vect, y_train)\n",
    "print(\"Model training completed.\")\n",
    "\n",
    "# Predict and calculate performance metrics\n",
    "print(\"Evaluating model performance...\")\n",
    "y_pred = linear_svc_model.predict(X_test_vect)\n",
    "\n",
    "# Performance metrics\n",
    "accuracy = accuracy_score(y_test, y_pred)\n",
    "precision = precision_score(y_test, y_pred, pos_label=1, average='binary')\n",
    "recall = recall_score(y_test, y_pred, pos_label=1, average='binary')\n",
    "f1 = f1_score(y_test, y_pred, pos_label=1.0, average='binary')\n",
    "\n",
    "print(\"Model performance:\")\n",
    "print(\"Accuracy:\", accuracy)\n",
    "print(\"Precision:\", precision)\n",
    "print(\"Recall:\", recall)\n",
    "print(\"F1 Score:\", f1)\n",
    "\n",
    "# Visualization: Confusion Matrix\n",
    "print(\"Generating confusion matrix...\")\n",
    "conf_matrix = confusion_matrix(y_test, y_pred, labels=[1, 0])\n",
    "plt.figure(figsize=(6, 4))\n",
    "sns.heatmap(conf_matrix, annot=True, fmt=\"d\", cmap=\"Blues\",\n",
    "            xticklabels=['Fake', 'Real'], yticklabels=['Fake', 'Real'])\n",
    "plt.xlabel(\"Predicted Labels\")\n",
    "plt.ylabel(\"True Labels\")\n",
    "plt.title(\"Confusion Matrix\")\n",
    "plt.show()\n"
   ]
  },
  {
   "cell_type": "code",
   "execution_count": null,
   "metadata": {},
   "outputs": [],
   "source": []
  }
 ],
 "metadata": {
  "kernelspec": {
   "display_name": "ML7641ProjMidterm",
   "language": "python",
   "name": "python3"
  },
  "language_info": {
   "codemirror_mode": {
    "name": "ipython",
    "version": 3
   },
   "file_extension": ".py",
   "mimetype": "text/x-python",
   "name": "python",
   "nbconvert_exporter": "python",
   "pygments_lexer": "ipython3",
   "version": "3.11.10"
  }
 },
 "nbformat": 4,
 "nbformat_minor": 2
}
